{
 "cells": [
  {
   "cell_type": "code",
   "execution_count": 1,
   "id": "7ff4cd55",
   "metadata": {},
   "outputs": [
    {
     "ename": "FileNotFoundError",
     "evalue": "[Errno 2] No such file or directory: 'Pybank/budget_data.csv'",
     "output_type": "error",
     "traceback": [
      "\u001b[0;31m---------------------------------------------------------------------------\u001b[0m",
      "\u001b[0;31mFileNotFoundError\u001b[0m                         Traceback (most recent call last)",
      "\u001b[1;32m/Users/evanwoodard/Desktop/Bootcamp/Homework/python-challenge/PyBank/main2.py.ipynb Cell 1\u001b[0m line \u001b[0;36m6\n\u001b[1;32m      <a href='vscode-notebook-cell:/Users/evanwoodard/Desktop/Bootcamp/Homework/python-challenge/PyBank/main2.py.ipynb#W0sZmlsZQ%3D%3D?line=1'>2</a>\u001b[0m \u001b[39mimport\u001b[39;00m \u001b[39mcsv\u001b[39;00m\n\u001b[1;32m      <a href='vscode-notebook-cell:/Users/evanwoodard/Desktop/Bootcamp/Homework/python-challenge/PyBank/main2.py.ipynb#W0sZmlsZQ%3D%3D?line=3'>4</a>\u001b[0m csv_path \u001b[39m=\u001b[39m os\u001b[39m.\u001b[39mpath\u001b[39m.\u001b[39mjoin(\u001b[39m'\u001b[39m\u001b[39mPybank\u001b[39m\u001b[39m'\u001b[39m, \u001b[39m'\u001b[39m\u001b[39mbudget_data.csv\u001b[39m\u001b[39m'\u001b[39m)\n\u001b[0;32m----> <a href='vscode-notebook-cell:/Users/evanwoodard/Desktop/Bootcamp/Homework/python-challenge/PyBank/main2.py.ipynb#W0sZmlsZQ%3D%3D?line=5'>6</a>\u001b[0m \u001b[39mwith\u001b[39;00m \u001b[39mopen\u001b[39;49m(csv_path) \u001b[39mas\u001b[39;00m csvfile:\n\u001b[1;32m      <a href='vscode-notebook-cell:/Users/evanwoodard/Desktop/Bootcamp/Homework/python-challenge/PyBank/main2.py.ipynb#W0sZmlsZQ%3D%3D?line=6'>7</a>\u001b[0m    csvreader \u001b[39m=\u001b[39m csv\u001b[39m.\u001b[39mreader(csvfile, delimiter\u001b[39m=\u001b[39m\u001b[39m\"\u001b[39m\u001b[39m,\u001b[39m\u001b[39m\"\u001b[39m)\n\u001b[1;32m      <a href='vscode-notebook-cell:/Users/evanwoodard/Desktop/Bootcamp/Homework/python-challenge/PyBank/main2.py.ipynb#W0sZmlsZQ%3D%3D?line=8'>9</a>\u001b[0m    header \u001b[39m=\u001b[39m \u001b[39mnext\u001b[39m(csvreader)\n",
      "File \u001b[0;32m~/Library/Python/3.11/lib/python/site-packages/IPython/core/interactiveshell.py:284\u001b[0m, in \u001b[0;36m_modified_open\u001b[0;34m(file, *args, **kwargs)\u001b[0m\n\u001b[1;32m    277\u001b[0m \u001b[39mif\u001b[39;00m file \u001b[39min\u001b[39;00m {\u001b[39m0\u001b[39m, \u001b[39m1\u001b[39m, \u001b[39m2\u001b[39m}:\n\u001b[1;32m    278\u001b[0m     \u001b[39mraise\u001b[39;00m \u001b[39mValueError\u001b[39;00m(\n\u001b[1;32m    279\u001b[0m         \u001b[39mf\u001b[39m\u001b[39m\"\u001b[39m\u001b[39mIPython won\u001b[39m\u001b[39m'\u001b[39m\u001b[39mt let you open fd=\u001b[39m\u001b[39m{\u001b[39;00mfile\u001b[39m}\u001b[39;00m\u001b[39m by default \u001b[39m\u001b[39m\"\u001b[39m\n\u001b[1;32m    280\u001b[0m         \u001b[39m\"\u001b[39m\u001b[39mas it is likely to crash IPython. If you know what you are doing, \u001b[39m\u001b[39m\"\u001b[39m\n\u001b[1;32m    281\u001b[0m         \u001b[39m\"\u001b[39m\u001b[39myou can use builtins\u001b[39m\u001b[39m'\u001b[39m\u001b[39m open.\u001b[39m\u001b[39m\"\u001b[39m\n\u001b[1;32m    282\u001b[0m     )\n\u001b[0;32m--> 284\u001b[0m \u001b[39mreturn\u001b[39;00m io_open(file, \u001b[39m*\u001b[39;49margs, \u001b[39m*\u001b[39;49m\u001b[39m*\u001b[39;49mkwargs)\n",
      "\u001b[0;31mFileNotFoundError\u001b[0m: [Errno 2] No such file or directory: 'Pybank/budget_data.csv'"
     ]
    }
   ],
   "source": [
    "import os\n",
    "import csv\n",
    "\n",
    "csv_path = os.path.join('Pybank', 'budget_data.csv')\n",
    "\n",
    "with open(csv_path) as csvfile:\n",
    "   csvreader = csv.reader(csvfile, delimiter=\",\")\n",
    "\n",
    "   header = next(csvreader)\n",
    "   months = []\n",
    "   profits = []\n",
    "   iter_profits = iter(profits)\n",
    "   change = []\n",
    "\n",
    "   for row in csvreader:\n",
    "       months.append(row[0])\n",
    "       profits.append(int(row[1]))\n",
    "   for i in iter_profits:\n",
    "        x = next(iter_profits)\n",
    "        change1 = i-x\n",
    "        change.append(change1)\n",
    "\n",
    "results = dict(zip(months, profits))\n",
    "months_count = len(results)\n",
    "total_profits = sum(profits)\n",
    "change_average = sum(change)/len(change)\n",
    "change_best = max(change)\n",
    "change_worst = min(change)\n",
    "\n",
    "print(\"Financial Analysis\")\n",
    "print(\"----------------------------------------------\")\n",
    "print(\"Total Months:\", months_count)\n",
    "print(\"Total: $\", total_profits)\n",
    "print(\"Average Change: $\", round(change_average, 2))\n",
    "print(\"Greatest Increase in Profits: $\", change_best)\n",
    "print(\"Greatest Decrease in Profits: $\", change_worst) "
   ]
  }
 ],
 "metadata": {
  "kernelspec": {
   "display_name": "Python 3 (ipykernel)",
   "language": "python",
   "name": "python3"
  },
  "language_info": {
   "codemirror_mode": {
    "name": "ipython",
    "version": 3
   },
   "file_extension": ".py",
   "mimetype": "text/x-python",
   "name": "python",
   "nbconvert_exporter": "python",
   "pygments_lexer": "ipython3",
   "version": "3.11.4"
  }
 },
 "nbformat": 4,
 "nbformat_minor": 5
}
