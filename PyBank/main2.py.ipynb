{
 "cells": [
  {
   "cell_type": "code",
   "execution_count": 8,
   "id": "7ff4cd55",
   "metadata": {},
   "outputs": [],
   "source": [
    "import os\n",
    "import csv\n",
    "\n",
    "csv_path = os.path.join('..', 'Desktop', 'budget_data.csv')"
   ]
  },
  {
   "cell_type": "code",
   "execution_count": 9,
   "id": "37ee7d05",
   "metadata": {},
   "outputs": [
    {
     "ename": "FileNotFoundError",
     "evalue": "[Errno 2] No such file or directory: '../Desktop/budget_data.csv'",
     "output_type": "error",
     "traceback": [
      "\u001b[0;31m---------------------------------------------------------------------------\u001b[0m",
      "\u001b[0;31mFileNotFoundError\u001b[0m                         Traceback (most recent call last)",
      "Cell \u001b[0;32mIn[9], line 1\u001b[0m\n\u001b[0;32m----> 1\u001b[0m \u001b[39mwith\u001b[39;00m \u001b[39mopen\u001b[39;49m(csv_path) \u001b[39mas\u001b[39;00m csvfile:\n\u001b[1;32m      2\u001b[0m     csvreader \u001b[39m=\u001b[39m csv\u001b[39m.\u001b[39mreader(csvfile, delimiter\u001b[39m=\u001b[39m\u001b[39m\"\u001b[39m\u001b[39m,\u001b[39m\u001b[39m\"\u001b[39m)\n\u001b[1;32m      3\u001b[0m     header \u001b[39m=\u001b[39m \u001b[39mnext\u001b[39m(csvreader)\n",
      "File \u001b[0;32m~/Library/Python/3.11/lib/python/site-packages/IPython/core/interactiveshell.py:284\u001b[0m, in \u001b[0;36m_modified_open\u001b[0;34m(file, *args, **kwargs)\u001b[0m\n\u001b[1;32m    277\u001b[0m \u001b[39mif\u001b[39;00m file \u001b[39min\u001b[39;00m {\u001b[39m0\u001b[39m, \u001b[39m1\u001b[39m, \u001b[39m2\u001b[39m}:\n\u001b[1;32m    278\u001b[0m     \u001b[39mraise\u001b[39;00m \u001b[39mValueError\u001b[39;00m(\n\u001b[1;32m    279\u001b[0m         \u001b[39mf\u001b[39m\u001b[39m\"\u001b[39m\u001b[39mIPython won\u001b[39m\u001b[39m'\u001b[39m\u001b[39mt let you open fd=\u001b[39m\u001b[39m{\u001b[39;00mfile\u001b[39m}\u001b[39;00m\u001b[39m by default \u001b[39m\u001b[39m\"\u001b[39m\n\u001b[1;32m    280\u001b[0m         \u001b[39m\"\u001b[39m\u001b[39mas it is likely to crash IPython. If you know what you are doing, \u001b[39m\u001b[39m\"\u001b[39m\n\u001b[1;32m    281\u001b[0m         \u001b[39m\"\u001b[39m\u001b[39myou can use builtins\u001b[39m\u001b[39m'\u001b[39m\u001b[39m open.\u001b[39m\u001b[39m\"\u001b[39m\n\u001b[1;32m    282\u001b[0m     )\n\u001b[0;32m--> 284\u001b[0m \u001b[39mreturn\u001b[39;00m io_open(file, \u001b[39m*\u001b[39;49margs, \u001b[39m*\u001b[39;49m\u001b[39m*\u001b[39;49mkwargs)\n",
      "\u001b[0;31mFileNotFoundError\u001b[0m: [Errno 2] No such file or directory: '../Desktop/budget_data.csv'"
     ]
    }
   ],
   "source": [
    "with open(csv_path) as csvfile:\n",
    "    csvreader = csv.reader(csvfile, delimiter=\",\")\n",
    "    header = next(csvreader)"
   ]
  },
  {
   "cell_type": "code",
   "execution_count": null,
   "id": "7c44a987",
   "metadata": {},
   "outputs": [],
   "source": [
    "    months = []\n",
    "    profits = []\n",
    "    change = []"
   ]
  },
  {
   "cell_type": "code",
   "execution_count": null,
   "id": "a869677e",
   "metadata": {},
   "outputs": [],
   "source": [
    "   for row in csvreader:\n",
    "        months.append(row[0])\n",
    "        profits.append(int(row[1]))"
   ]
  },
  {
   "cell_type": "code",
   "execution_count": null,
   "id": "00a6994d",
   "metadata": {},
   "outputs": [],
   "source": [
    "for row in csvreader:\n",
    "    change.append(next(row[1])-row[1])"
   ]
  },
  {
   "cell_type": "code",
   "execution_count": null,
   "id": "0d556069",
   "metadata": {},
   "outputs": [],
   "source": [
    "results = dict(zip(months, profits))"
   ]
  },
  {
   "cell_type": "code",
   "execution_count": null,
   "id": "d014dcb2",
   "metadata": {},
   "outputs": [],
   "source": [
    "months_count = len(results)\n",
    "total_profits = sum(profits)\n",
    "#change_average = sum(change)/len(change)\n",
    "#change_best = max(change)\n",
    "#change_worst = min(change)"
   ]
  },
  {
   "cell_type": "code",
   "execution_count": null,
   "id": "ce0ab183",
   "metadata": {},
   "outputs": [],
   "source": [
    "print(\"Financial Analysis\")\n",
    "print(\"----------------------------------------------\")\n",
    "print(\"Total Months:\", months_count)\n",
    "print(\"Total: $\", total_profits)\n",
    "#print(\"Average Change: $\", change_average)\n",
    "#print(\"Greatest Increase in Profits: $\", change_best)\n",
    "#print(\"Greatest Decrease in Profits: $\", change_worst)"
   ]
  }
 ],
 "metadata": {
  "kernelspec": {
   "display_name": "Python 3 (ipykernel)",
   "language": "python",
   "name": "python3"
  },
  "language_info": {
   "codemirror_mode": {
    "name": "ipython",
    "version": 3
   },
   "file_extension": ".py",
   "mimetype": "text/x-python",
   "name": "python",
   "nbconvert_exporter": "python",
   "pygments_lexer": "ipython3",
   "version": "3.11.4"
  }
 },
 "nbformat": 4,
 "nbformat_minor": 5
}
